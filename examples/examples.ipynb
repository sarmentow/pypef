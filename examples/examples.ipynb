{
 "cells": [
  {
   "cell_type": "code",
   "execution_count": 31,
   "metadata": {},
   "outputs": [],
   "source": [
    "from sistema import Sistema, Barra, Ponto, Vinculos, vec3, CargaPontual, Momento"
   ]
  },
  {
   "cell_type": "code",
   "execution_count": 32,
   "metadata": {},
   "outputs": [
    {
     "name": "stdout",
     "output_type": "stream",
     "text": [
      "(6, 6) (6,)\n",
      "Reações da barra 0:\n",
      "p0: F = 0.0i + 0.0j + 0.0k, M = 0.0i + 0.0j + 0.0k\n",
      "p1: F = 0i + 0j + 0k, M = 0i + 0j + 0k\n"
     ]
    }
   ],
   "source": [
    "# Barra simples com engaste, nenhuma força, esperamos resultado nulo\n",
    "s = Sistema()\n",
    "inicio = Ponto(vec3(0, 0, 0), Vinculos.Engaste)\n",
    "fim = Ponto(vec3(1, 0, 0), Vinculos.Nulo)\n",
    "b = Barra(inicio, fim)\n",
    "s.add_barra(b)\n",
    "s.resolver_sistema()\n",
    "s.print_reactions()"
   ]
  },
  {
   "cell_type": "code",
   "execution_count": 33,
   "metadata": {},
   "outputs": [
    {
     "name": "stdout",
     "output_type": "stream",
     "text": [
      "(6, 6) (6,)\n",
      "Reações da barra 0:\n",
      "p0: F = -1.0i + 1.0j + 0.0k, M = 0.0i + 0.0j + 0.5k\n",
      "p1: F = 0i + 0j + 0k, M = 0i + 0j + 0k\n"
     ]
    }
   ],
   "source": [
    "# Barra simples com engaste, nenhuma força, esperamos resultado nulo\n",
    "s = Sistema()\n",
    "inicio = Ponto(vec3(0, 0, 0), Vinculos.Engaste)\n",
    "fim = Ponto(vec3(1, 0, 0), Vinculos.Nulo)\n",
    "b = Barra(inicio, fim)\n",
    "b.add_carga(CargaPontual(vec3(0.5, 0, 0), vec3(1, -1, 0)))\n",
    "s.add_barra(b)\n",
    "s.resolver_sistema()\n",
    "s.print_reactions()"
   ]
  },
  {
   "cell_type": "code",
   "execution_count": 34,
   "metadata": {},
   "outputs": [
    {
     "name": "stdout",
     "output_type": "stream",
     "text": [
      "(6, 6) (6,)\n",
      "Reações da barra 0:\n",
      "p0: F = 2.0i + 1.0j + 0.0k, M = 2.0i + -4.0j + 4.0k\n",
      "p1: F = 0i + 0j + 0k, M = 0i + 0j + 0k\n",
      "Reações da barra 1:\n",
      "p0: F = 0i + 0j + 0k, M = 0i + 0j + 0k\n",
      "p1: F = 0i + 0j + 0k, M = 0i + 0j + 0k\n",
      "Reações da barra 2:\n",
      "p0: F = 0i + 0j + 0k, M = 0i + 0j + 0k\n",
      "p1: F = 0i + 0j + 0k, M = 0i + 0j + 0k\n"
     ]
    }
   ],
   "source": [
    "s = Sistema()\n",
    "b0 = Barra(Ponto(vec3(0, 0, 0), Vinculos.Engaste), Ponto(vec3(4, 0, 0), Vinculos.Nulo))\n",
    "b0.add_momento(Momento(vec3(0, 0, 2)))\n",
    "b1 = Barra(Ponto(vec3(4, 0, 0), Vinculos.Nulo), Ponto(vec3(4, -1, 0), Vinculos.Nulo))\n",
    "b2 = Barra(Ponto(vec3(4, -1, 0), Vinculos.Nulo), Ponto(vec3(4, -1, -2), Vinculos.Nulo))\n",
    "b2.add_carga(CargaPontual(vec3(4, -1, -2), vec3(-2, -1, 0)))\n",
    "s.add_barra(b0)\n",
    "s.add_barra(b1)\n",
    "s.add_barra(b2)\n",
    "s.resolver_sistema()\n",
    "s.print_reactions()"
   ]
  },
  {
   "cell_type": "code",
   "execution_count": 35,
   "metadata": {},
   "outputs": [
    {
     "name": "stdout",
     "output_type": "stream",
     "text": [
      "(6, 6) (6,)\n",
      "Reações da barra 0:\n",
      "p0: F = 1.0i + 1.0j + 0.5k, M = 0i + 0j + 0k\n",
      "p1: F = 0i + 0j + 0k, M = 0i + 0j + 0k\n",
      "Reações da barra 1:\n",
      "p0: F = 0i + 0j + 0.5k, M = 0i + 0j + 0k\n",
      "p1: F = 0i + 0j + 0k, M = 0i + 0j + 0k\n",
      "Reações da barra 2:\n",
      "p0: F = 0i + 0j + -0.0k, M = 0i + 0j + 0k\n",
      "p1: F = -0.0i + 0j + 0k, M = 0i + 0j + 0k\n"
     ]
    }
   ],
   "source": [
    "s = Sistema()\n",
    "b0 = Barra(Ponto(vec3(0, 0, 0), Vinculos.Articulacao), Ponto(vec3(0, 1, 0), Vinculos.Nulo))\n",
    "b1 = Barra(Ponto(vec3(0, 1, 0), Vinculos.ApoioSimplesZ), Ponto(vec3(1, 1, 0), Vinculos.Nulo))\n",
    "b2 = Barra(Ponto(vec3(1, 1, 0), Vinculos.ApoioSimplesZ), Ponto(vec3(2, 1, 0), Vinculos.ApoioSimplesX))\n",
    "b2.add_carga(CargaPontual(vec3(0, 0, 0), vec3(-1, -1, 0)))\n",
    "b2.add_carga(CargaPontual(vec3(0, 0.5, 0), vec3(0, 0, -1)))\n",
    "s.add_barra(b0)\n",
    "s.add_barra(b1)\n",
    "s.add_barra(b2)\n",
    "s.resolver_sistema()\n",
    "s.print_reactions()"
   ]
  },
  {
   "cell_type": "code",
   "execution_count": 36,
   "metadata": {},
   "outputs": [
    {
     "name": "stdout",
     "output_type": "stream",
     "text": [
      "(6, 6) (6,)\n",
      "Reações da barra 0:\n",
      "p0: F = 60.0i + 45.0j + 0.0k, M = 0i + 0j + 0k\n",
      "p1: F = 0i + 0j + 0k, M = 0i + 0j + 0k\n",
      "Reações da barra 1:\n",
      "p0: F = 0i + 0j + 0.0k, M = 0i + 0j + 0k\n",
      "p1: F = 0i + 0j + 0k, M = 0i + 0j + 0k\n",
      "Reações da barra 2:\n",
      "p0: F = 0i + 0j + -0.0k, M = 0i + 0j + 0k\n",
      "p1: F = 0i + 0j + 0k, M = 0i + 0j + 0k\n",
      "Reações da barra 3:\n",
      "p0: F = 0i + 0j + 0k, M = 0i + 0j + 0k\n",
      "p1: F = 0i + -5.0j + 0k, M = 0i + 0j + 0k\n"
     ]
    }
   ],
   "source": [
    "s = Sistema()\n",
    "b0 = Barra(Ponto(vec3(0, 0, 0), Vinculos.Articulacao), Ponto(vec3(0, 4, 0), Vinculos.Nulo))\n",
    "b1 = Barra(Ponto(vec3(0, 4, 0), Vinculos.ApoioSimplesZ), Ponto(vec3(4, 4, 0), Vinculos.Nulo))\n",
    "b2 = Barra(Ponto(vec3(4, 4, 0), Vinculos.ApoioSimplesZ), Ponto(vec3(5, 4, 0), Vinculos.Nulo))\n",
    "b3 = Barra(Ponto(vec3(4, 4, 0), Vinculos.Nulo), Ponto(vec3(4, 0, 0), Vinculos.ApoioSimplesY))\n",
    "b1.add_carga(CargaPontual(vec3(2, 4, 0), vec3(0, -40, 0)))\n",
    "b1.add_carga(CargaPontual(vec3(4,2,0),vec3(-60,0,0)))\n",
    "b2.add_momento(Momento(vec3(0, 0, -20)))\n",
    "s.add_barra(b0)\n",
    "s.add_barra(b1)\n",
    "s.add_barra(b2)\n",
    "s.add_barra(b3)\n",
    "s.resolver_sistema()\n",
    "s.print_reactions()"
   ]
  },
  {
   "cell_type": "code",
   "execution_count": null,
   "metadata": {},
   "outputs": [],
   "source": []
  }
 ],
 "metadata": {
  "kernelspec": {
   "display_name": "Python 3",
   "language": "python",
   "name": "python3"
  },
  "language_info": {
   "codemirror_mode": {
    "name": "ipython",
    "version": 3
   },
   "file_extension": ".py",
   "mimetype": "text/x-python",
   "name": "python",
   "nbconvert_exporter": "python",
   "pygments_lexer": "ipython3",
   "version": "3.10.12"
  }
 },
 "nbformat": 4,
 "nbformat_minor": 2
}

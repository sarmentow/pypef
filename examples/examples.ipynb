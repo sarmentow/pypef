{
 "cells": [
  {
   "cell_type": "code",
   "execution_count": 1,
   "metadata": {},
   "outputs": [
    {
     "name": "stdout",
     "output_type": "stream",
     "text": [
      "Reações da barra 0:\n",
      "p0: F = -1.0i + 1.0j + 0.0k, M = 0.0i + 0.0j + 0.5k\n",
      "p1: F = 0i + 0j + 0k, M = 0i + 0j + 0k\n"
     ]
    },
    {
     "name": "stderr",
     "output_type": "stream",
     "text": [
      "/usr/lib/python3/dist-packages/scipy/__init__.py:146: UserWarning: A NumPy version >=1.17.3 and <1.25.0 is required for this version of SciPy (detected version 1.26.4\n",
      "  warnings.warn(f\"A NumPy version >={np_minversion} and <{np_maxversion}\"\n"
     ]
    }
   ],
   "source": [
    "from utils import *\n",
    "from elementos_estruturais import *\n",
    "from portico_plano import *"
   ]
  },
  {
   "cell_type": "code",
   "execution_count": 2,
   "metadata": {},
   "outputs": [
    {
     "name": "stdout",
     "output_type": "stream",
     "text": [
      "Reações da barra 0:\n",
      "p0: F = 0.0i + 0.0j + 0.0k, M = 0.0i + 0.0j + 0.0k\n",
      "p1: F = 0i + 0j + 0k, M = 0i + 0j + 0k\n"
     ]
    }
   ],
   "source": [
    "# Barra simples com engaste, nenhuma força, esperamos resultado nulo\n",
    "s = Sistema()\n",
    "inicio = Ponto(0, 0, 0, Vinculos.Engaste)\n",
    "fim = Ponto(1, 0, 0, Vinculos.Nulo)\n",
    "b = Barra(inicio, fim)\n",
    "s.add_barra([b])\n",
    "p = PorticoPlano(s)\n",
    "p.resolver_sistema()\n",
    "p.print_reactions()"
   ]
  },
  {
   "cell_type": "code",
   "execution_count": 3,
   "metadata": {},
   "outputs": [
    {
     "name": "stdout",
     "output_type": "stream",
     "text": [
      "Reações da barra 0:\n",
      "p0: F = -1.0i + 1.0j + 0.0k, M = 0.0i + 0.0j + 0.5k\n",
      "p1: F = 0i + 0j + 0k, M = 0i + 0j + 0k\n"
     ]
    }
   ],
   "source": [
    "# Barra simples com engaste, nenhuma força, esperamos resultado nulo\n",
    "s = Sistema()\n",
    "inicio = Ponto(0, 0, 0, Vinculos.Engaste)\n",
    "fim = Ponto(1, 0, 0, Vinculos.Nulo)\n",
    "b = Barra(inicio, fim)\n",
    "s.add_carga([CargaPontual(0.5, 0.0, 0.0, 1.0, -1.0, 0.0)])\n",
    "s.add_barra([b])\n",
    "p = PorticoPlano(s)\n",
    "p.resolver_sistema()\n",
    "p.print_reactions()"
   ]
  },
  {
   "cell_type": "code",
   "execution_count": 4,
   "metadata": {},
   "outputs": [
    {
     "name": "stdout",
     "output_type": "stream",
     "text": [
      "Reações da barra 0:\n",
      "p0: F = 2.0i + 1.0j + 0.0k, M = 2.0i + -4.0j + 4.0k\n",
      "p1: F = 0i + 0j + 0k, M = 0i + 0j + 0k\n",
      "Reações da barra 1:\n",
      "p0: F = 0i + 0j + 0k, M = 0i + 0j + 0k\n",
      "p1: F = 0i + 0j + 0k, M = 0i + 0j + 0k\n",
      "Reações da barra 2:\n",
      "p0: F = 0i + 0j + 0k, M = 0i + 0j + 0k\n",
      "p1: F = 0i + 0j + 0k, M = 0i + 0j + 0k\n"
     ]
    }
   ],
   "source": [
    "s = Sistema()\n",
    "b0 = Barra(Ponto(0, 0, 0, Vinculos.Engaste), Ponto(4, 0, 0, Vinculos.Nulo))\n",
    "s.add_momento([Momento(0, 0, 2)])\n",
    "b1 = Barra(Ponto(4, 0, 0, Vinculos.Nulo), Ponto(4, -1, 0, Vinculos.Nulo))\n",
    "b2 = Barra(Ponto(4, -1, 0, Vinculos.Nulo), Ponto(4, -1, -2, Vinculos.Nulo))\n",
    "s.add_carga([CargaPontual(4, -1, -2, -2, -1, 0)])\n",
    "s.add_barra([b0, b1, b2])\n",
    "p = PorticoPlano(s)\n",
    "p.resolver_sistema()\n",
    "p.print_reactions()"
   ]
  },
  {
   "cell_type": "code",
   "execution_count": 5,
   "metadata": {},
   "outputs": [
    {
     "name": "stdout",
     "output_type": "stream",
     "text": [
      "Reações da barra 0:\n",
      "p0: F = 1.0i + 1.0j + 0.5k, M = 0i + 0j + 0k\n",
      "p1: F = 0i + 0j + 0k, M = 0i + 0j + 0k\n",
      "Reações da barra 1:\n",
      "p0: F = 0i + 0j + 0.5k, M = 0i + 0j + 0k\n",
      "p1: F = 0i + 0j + 0k, M = 0i + 0j + 0k\n",
      "Reações da barra 2:\n",
      "p0: F = 0i + 0j + -0.0k, M = 0i + 0j + 0k\n",
      "p1: F = -0.0i + 0j + 0k, M = 0i + 0j + 0k\n"
     ]
    }
   ],
   "source": [
    "s = Sistema()\n",
    "b0 = Barra(Ponto(0, 0, 0, Vinculos.Articulacao), Ponto(0, 1, 0, Vinculos.Nulo))\n",
    "b1 = Barra(Ponto(0, 1, 0, Vinculos.ApoioSimplesZ), Ponto(1, 1, 0, Vinculos.Nulo))\n",
    "b2 = Barra(Ponto(1, 1, 0, Vinculos.ApoioSimplesZ), Ponto(2, 1, 0, Vinculos.ApoioSimplesX))\n",
    "s.add_carga([CargaPontual(0, 0, 0, -1, -1, 0), CargaPontual(0, 0.5, 0, 0, 0, -1)])\n",
    "s.add_barra([b0, b1, b2])\n",
    "p = PorticoPlano(s)\n",
    "p.resolver_sistema()\n",
    "p.print_reactions()"
   ]
  },
  {
   "cell_type": "code",
   "execution_count": 6,
   "metadata": {},
   "outputs": [
    {
     "name": "stdout",
     "output_type": "stream",
     "text": [
      "Reações da barra 0:\n",
      "p0: F = 60.0i + 45.0j + 0.0k, M = 0i + 0j + 0k\n",
      "p1: F = 0i + 0j + 0k, M = 0i + 0j + 0k\n",
      "Reações da barra 1:\n",
      "p0: F = 0i + 0j + 0.0k, M = 0i + 0j + 0k\n",
      "p1: F = 0i + 0j + 0k, M = 0i + 0j + 0k\n",
      "Reações da barra 2:\n",
      "p0: F = 0i + 0j + -0.0k, M = 0i + 0j + 0k\n",
      "p1: F = 0i + 0j + 0k, M = 0i + 0j + 0k\n",
      "Reações da barra 3:\n",
      "p0: F = 0i + 0j + 0k, M = 0i + 0j + 0k\n",
      "p1: F = 0i + -5.0j + 0k, M = 0i + 0j + 0k\n"
     ]
    }
   ],
   "source": [
    "s = Sistema()\n",
    "b0 = Barra(Ponto(0, 0, 0, Vinculos.Articulacao), Ponto(0, 4, 0, Vinculos.Nulo))\n",
    "b1 = Barra(Ponto(0, 4, 0, Vinculos.ApoioSimplesZ), Ponto(4, 4, 0, Vinculos.Nulo))\n",
    "b2 = Barra(Ponto(4, 4, 0, Vinculos.ApoioSimplesZ), Ponto(5, 4, 0, Vinculos.Nulo))\n",
    "b3 = Barra(Ponto(4, 4, 0, Vinculos.Nulo), Ponto(4, 0, 0, Vinculos.ApoioSimplesY))\n",
    "s.add_carga([CargaPontual(2, 4, 0, 0, -40, 0), CargaPontual(4, 2, 0, -60, 0, 0)])\n",
    "s.add_momento([Momento(0, 0, -20)])\n",
    "s.add_barra([b0, b1, b2, b3])\n",
    "p = PorticoPlano(s)\n",
    "p.resolver_sistema()\n",
    "p.print_reactions()"
   ]
  },
  {
   "cell_type": "code",
   "execution_count": null,
   "metadata": {},
   "outputs": [],
   "source": []
  }
 ],
 "metadata": {
  "kernelspec": {
   "display_name": "Python 3",
   "language": "python",
   "name": "python3"
  },
  "language_info": {
   "codemirror_mode": {
    "name": "ipython",
    "version": 3
   },
   "file_extension": ".py",
   "mimetype": "text/x-python",
   "name": "python",
   "nbconvert_exporter": "python",
   "pygments_lexer": "ipython3",
   "version": "3.10.12"
  }
 },
 "nbformat": 4,
 "nbformat_minor": 2
}
